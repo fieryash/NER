{
  "nbformat": 4,
  "nbformat_minor": 0,
  "metadata": {
    "kernelspec": {
      "display_name": "Python 3",
      "language": "python",
      "name": "python3"
    },
    "language_info": {
      "codemirror_mode": {
        "name": "ipython",
        "version": 3
      },
      "file_extension": ".py",
      "mimetype": "text/x-python",
      "name": "python",
      "nbconvert_exporter": "python",
      "pygments_lexer": "ipython3",
      "version": "3.6.12"
    },
    "colab": {
      "name": "Mediapipe.ipynb",
      "provenance": [],
      "collapsed_sections": []
    }
  },
  "cells": [
    {
      "cell_type": "code",
      "metadata": {
        "id": "DEU9nI6OSSlP",
        "colab": {
          "base_uri": "https://localhost:8080/"
        },
        "outputId": "75d0fa29-e484-44ac-9061-a1ed3bd56214"
      },
      "source": [
        "!pip3 install mediapipe\n",
        "!pip3 install scikit-video"
      ],
      "execution_count": 3,
      "outputs": [
        {
          "output_type": "stream",
          "text": [
            "Requirement already satisfied: mediapipe in /usr/local/lib/python3.6/dist-packages (0.8.2)\n",
            "Requirement already satisfied: numpy==1.19.3 in /usr/local/lib/python3.6/dist-packages (from mediapipe) (1.19.3)\n",
            "Requirement already satisfied: opencv-python in /usr/local/lib/python3.6/dist-packages (from mediapipe) (4.1.2.30)\n",
            "Requirement already satisfied: wheel in /usr/local/lib/python3.6/dist-packages (from mediapipe) (0.36.2)\n",
            "Requirement already satisfied: protobuf>=3.11.4 in /usr/local/lib/python3.6/dist-packages (from mediapipe) (3.12.4)\n",
            "Requirement already satisfied: absl-py in /usr/local/lib/python3.6/dist-packages (from mediapipe) (0.10.0)\n",
            "Requirement already satisfied: dataclasses in /usr/local/lib/python3.6/dist-packages (from mediapipe) (0.8)\n",
            "Requirement already satisfied: six in /usr/local/lib/python3.6/dist-packages (from mediapipe) (1.15.0)\n",
            "Requirement already satisfied: setuptools in /usr/local/lib/python3.6/dist-packages (from protobuf>=3.11.4->mediapipe) (51.1.1)\n",
            "Requirement already satisfied: scikit-video in /usr/local/lib/python3.6/dist-packages (1.1.11)\n",
            "Requirement already satisfied: numpy in /usr/local/lib/python3.6/dist-packages (from scikit-video) (1.19.3)\n",
            "Requirement already satisfied: scipy in /usr/local/lib/python3.6/dist-packages (from scikit-video) (1.4.1)\n",
            "Requirement already satisfied: pillow in /usr/local/lib/python3.6/dist-packages (from scikit-video) (7.0.0)\n"
          ],
          "name": "stdout"
        }
      ]
    },
    {
      "cell_type": "code",
      "metadata": {
        "id": "eugTf8Kk0oYf",
        "colab": {
          "base_uri": "https://localhost:8080/"
        },
        "outputId": "6120cd00-d0ad-4511-bbab-8c17617015be"
      },
      "source": [
        "from google.colab import drive\n",
        "drive.mount('/content/drive')"
      ],
      "execution_count": 4,
      "outputs": [
        {
          "output_type": "stream",
          "text": [
            "Drive already mounted at /content/drive; to attempt to forcibly remount, call drive.mount(\"/content/drive\", force_remount=True).\n"
          ],
          "name": "stdout"
        }
      ]
    },
    {
      "cell_type": "code",
      "metadata": {
        "id": "QvOvrTSJ1oLn"
      },
      "source": [
        "import cv2\n",
        "import mediapipe as mp\n",
        "import numpy as np\n",
        "import os\n",
        "from google.colab.patches import cv2_imshow\n",
        "from tqdm import tqdm\n",
        "import pandas as pd"
      ],
      "execution_count": 5,
      "outputs": []
    },
    {
      "cell_type": "code",
      "metadata": {
        "id": "Y9-AMWDMqyYU"
      },
      "source": [
        "path_to_parent = \"/content/drive/MyDrive/Sign Language Detection\"\n",
        "output_path = \"/content/drive/My Drive/Sign Language Detection/Pickle Files\"\n",
        "\n",
        "# os.listdir(path_to_parent)"
      ],
      "execution_count": 6,
      "outputs": []
    },
    {
      "cell_type": "code",
      "metadata": {
        "id": "7k3r2KP1MWLx",
        "colab": {
          "base_uri": "https://localhost:8080/",
          "height": 128
        },
        "outputId": "43d58fc0-9c37-430f-d9a1-67d5417fb730"
      },
      "source": [
        "def createdata(lst):\r\n",
        "    for array in op:\r\n",
        "        for array1 in array:\r\n",
        "            \r\n",
        "# print(lst)\r\n",
        "# arr = np.array(lst,dtype=\"object\")\r\n",
        "# arr\r\n",
        "# len(createdata(op))"
      ],
      "execution_count": null,
      "outputs": [
        {
          "output_type": "error",
          "ename": "SyntaxError",
          "evalue": "ignored",
          "traceback": [
            "\u001b[0;36m  File \u001b[0;32m\"<ipython-input-6-829368633f36>\"\u001b[0;36m, line \u001b[0;32m8\u001b[0m\n\u001b[0;31m    # len(createdata(op))\u001b[0m\n\u001b[0m                         ^\u001b[0m\n\u001b[0;31mSyntaxError\u001b[0m\u001b[0;31m:\u001b[0m unexpected EOF while parsing\n"
          ]
        }
      ]
    },
    {
      "cell_type": "code",
      "metadata": {
        "id": "Bf_-wgX400Kq"
      },
      "source": [
        "def func(nparr,x=0,y=0,z=0):\r\n",
        "    nparr[:,:,0]+=x\r\n",
        "    nparr[:,:,1]+=y\r\n",
        "    nparr[:,:,2]+=z"
      ],
      "execution_count": 7,
      "outputs": []
    },
    {
      "cell_type": "code",
      "metadata": {
        "id": "XFQdjO1tPBbV"
      },
      "source": [
        "x = []\n",
        "# df = pd.DataFrame(x, index = [0])\n",
        "test_lst = []\n",
        "def mediapipe(path):\n",
        "  print(inp)\n",
        "  op = []\n",
        "  mp_drawing = mp.solutions.drawing_utils\n",
        "  mp_hands = mp.solutions.hands\n",
        "\n",
        "  hands = mp_hands.Hands(min_detection_confidence=0.2, min_tracking_confidence=0.2)\n",
        "#   print(inp)\n",
        "  cap = cv2.VideoCapture(path_to_parent+\"/\"+inp)\n",
        "\n",
        "  # Default resolutions of the frame are obtained.The default resolutions are system dependent.\n",
        "  # We convert the resolutions from float to integer.\n",
        "  frame_width = int(cap.get(3))\n",
        "  frame_height = int(cap.get(4))\n",
        "\n",
        "  fourcc = cv2.VideoWriter_fourcc('M','J','P','G')\n",
        "  # fourcc = cv2.VideoWriter_fourcc(*'FMP4')\n",
        "  out = cv2.VideoWriter(output_path+\"/\"+inp, fourcc, 25, (frame_width,frame_height))\n",
        "  # Define the codec and create VideoWriter object.The output is stored in 'outpy.avi' file.\n",
        "  olx=[]\n",
        "\n",
        "  data = np.zeros((150,42,3))\n",
        "  img_num = 0\n",
        "  while(True):\n",
        "    ret, image = cap.read()\n",
        "    print(ret)\n",
        "    if ret == True:\n",
        "     \n",
        "    #   print(\"entered\",image.shape) \n",
        "      image = cv2.cvtColor(cv2.flip(image, 1), cv2.COLOR_BGR2RGB)\n",
        "      # To improve performance, optionally mark the image as not writeable to\n",
        "      # pass by reference.\n",
        "      image.flags.writeable = False\n",
        "      results = hands.process(image)\n",
        "      \n",
        "      blank_image = np.zeros(shape=[frame_height, frame_width, 3], dtype=np.uint8)\n",
        "\n",
        "      # Draw the hand annotations on the image.\n",
        "      blank_image.flags.writeable = True\n",
        "      \n",
        "      if results.multi_hand_landmarks:\n",
        "        # op.append(results.multi_hand_landmarks)\n",
        "        # print(results.multi_hand_landmarks[0].landmark)\n",
        "        left_landmarks = list(results.multi_hand_landmarks[0].landmark)\n",
        "        if len(results.multi_hand_landmarks) == 1:\n",
        "            if results.multi_handedness[0].classification[0].label == \"Left\":\n",
        "                for i in range(21):\n",
        "                    temp = left_landmarks[i]\n",
        "                    data[img_num,i] = np.array([temp.x,temp.y,temp.z])\n",
        "                    data[img_num,i+21] = np.array([0,0,0])\n",
        "            if results.multi_handedness[0].classification[0].label == \"Right\":\n",
        "                for i in range(21):\n",
        "                    temp = left_landmarks[i]\n",
        "                    data[img_num,i+21] = np.array([temp.x,temp.y,temp.z])\n",
        "                    data[img_num,i] = np.array([0,0,0])\n",
        "        if len(results.multi_hand_landmarks) == 2:\n",
        "            right_landmarks = list(results.multi_hand_landmarks[1].landmark)\n",
        "            for i in range(21):\n",
        "                temp_l = left_landmarks[i]\n",
        "                temp_r = right_landmarks[i]\n",
        "                data[img_num,i] = np.array([temp_l.x,temp_l.y,temp_l.z])\n",
        "                data[img_num,i+21] = np.array([temp_r.x,temp_r.y,temp_r.z])\n",
        "        for hand_landmarks in results.multi_hand_landmarks:\n",
        "            mp_drawing.draw_landmarks(blank_image, hand_landmarks, mp_hands.HAND_CONNECTIONS)\n",
        "\n",
        "      # cv2.imshow('MediaPipe Hands', blank_image)\n",
        "        img_num += 1\n",
        "      blank_image = cv2.cvtColor(cv2.flip(blank_image, 1),cv2.COLOR_BGR2RGB)\n",
        "\n",
        "      out.write(blank_image)\n",
        "\n",
        "      if cv2.waitKey(1) & 0xFF == ord('q'):\n",
        "          break\n",
        "\n",
        "    # Break the loop\n",
        "    else:\n",
        "    #   print(\"broken\")\n",
        "      break  \n",
        "\n",
        "\n",
        "  hands.close()\n",
        "  cap.release()\n",
        "  out.release()\n",
        "#   print(\"loop for break\")\n",
        "\n",
        "  # Closes all the frames\n",
        "  cv2.destroyAllWindows() \n",
        "  count = 0\n",
        "  dct = {}\n",
        "  op.append(data)\n",
        "  for lnd in op:\n",
        "      dct[\"landmark_\"+str(count)] = lnd\n",
        "      count += 1\n",
        "  dct[\"label\"] = inp\n",
        "#   x.append(dct)\n",
        "#   print(df2)\n",
        "  return dct"
      ],
      "execution_count": 12,
      "outputs": []
    },
    {
      "cell_type": "code",
      "metadata": {
        "colab": {
          "base_uri": "https://localhost:8080/",
          "height": 380
        },
        "id": "HbguEPe_uLON",
        "outputId": "85474ea8-593d-4c7d-fa69-2386a706a790"
      },
      "source": [
        "# x = []\r\n",
        "# # df = pd.DataFrame(x, index = [0])\r\n",
        "# test_lst = []\r\n",
        "# for person in (os.listdir(path_to_parent)):\r\n",
        "#     if person == \"SupriyaPanda\" or person == \"Swadesh Patra\" or person == \"Andhavarapu Supriya\":\r\n",
        "#         for folder in os.listdir(path_to_parent+\"/\"+person):\r\n",
        "#             for inp in tqdm(os.listdir(path_to_parent+\"/\"+person+\"/\"+folder)):\r\n",
        "#                 op = []\r\n",
        "\r\n",
        "#                 mp_drawing = mp.solutions.drawing_utils\r\n",
        "#                 mp_hands = mp.solutions.hands\r\n",
        "#                 hands = mp_hands.Hands(min_detection_confidence=0.2, min_tracking_confidence=0.2)\r\n",
        "#                 cap = cv2.VideoCapture(path_to_parent+\"/\"+inp)\r\n",
        "\r\n",
        "#                 # Default resolutions of the frame are obtained.The default resolutions are system dependent.\r\n",
        "#                 # We convert the resolutions from float to integer.\r\n",
        "#                 frame_width = int(cap.get(3))\r\n",
        "#                 frame_height = int(cap.get(4))\r\n",
        "#                 fourcc = cv2.VideoWriter_fourcc('M','J','P','G')\r\n",
        "#                 # fourcc = cv2.VideoWriter_fourcc(*'FMP4')\r\n",
        "#                 out = cv2.VideoWriter(output_path+\"/\"+inp, fourcc, 25, (frame_width,frame_height))\r\n",
        "#                 # Define the codec and create VideoWriter object.The output is stored in 'outpy.avi' file.\r\n",
        "\r\n",
        "#                 data = np.zeros((150,42,3))\r\n",
        "#                 img_num = 0\r\n",
        "#                 while(True):\r\n",
        "#                     ret, image = cap.read()\r\n",
        "#                     if ret == True:\r\n",
        "#                         image = cv2.cvtColor(cv2.flip(image, 1), cv2.COLOR_BGR2RGB)\r\n",
        "#                         image.flags.writeable = False\r\n",
        "#                         results = hands.process(image)\r\n",
        "\r\n",
        "#                         blank_image = np.zeros(shape=[frame_height, frame_width, 3], dtype=np.uint8)\r\n",
        "\r\n",
        "#                         # Draw the hand annotations on the image.\r\n",
        "#                         blank_image.flags.writeable = True\r\n",
        "#                         if results.multi_hand_landmarks:\r\n",
        "#                             # op.append(results.multi_hand_landmarks)\r\n",
        "#                             # print(results.multi_hand_landmarks[0].landmark)\r\n",
        "#                             left_landmarks = list(results.multi_hand_landmarks[0].landmark)\r\n",
        "#                             if len(results.multi_hand_landmarks) == 1:\r\n",
        "#                                 if results.multi_handedness[0].classification[0].label == \"Left\":\r\n",
        "#                                     for i in range(21):\r\n",
        "#                                         temp = left_landmarks[i]\r\n",
        "#                                         data[img_num,i] = np.array([temp.x,temp.y,temp.z])\r\n",
        "#                                         data[img_num,i+21] = np.array([0,0,0])\r\n",
        "#                                 if results.multi_handedness[0].classification[0].label == \"Right\":\r\n",
        "#                                     for i in range(21):\r\n",
        "#                                         temp = left_landmarks[i]\r\n",
        "#                                         data[img_num,i+21] = np.array([temp.x,temp.y,temp.z])\r\n",
        "#                                         data[img_num,i] = np.array([0,0,0])\r\n",
        "#                             if len(results.multi_hand_landmarks) == 2:\r\n",
        "#                                 right_landmarks = list(results.multi_hand_landmarks[1].landmark)\r\n",
        "#                                 for i in range(21):\r\n",
        "#                                     temp_l = left_landmarks[i]\r\n",
        "#                                     temp_r = right_landmarks[i]\r\n",
        "#                                     data[img_num,i] = np.array([temp_l.x,temp_l.y,temp_l.z])\r\n",
        "#                                     data[img_num,i+21] = np.array([temp_r.x,temp_r.y,temp_r.z])\r\n",
        "#                             for hand_landmarks in results.multi_hand_landmarks:\r\n",
        "#                                 mp_drawing.draw_landmarks(blank_image, hand_landmarks, mp_hands.HAND_CONNECTIONS)    \r\n",
        "#                         img_num += 1\r\n",
        "#                         blank_image = cv2.cvtColor(cv2.flip(blank_image, 1),cv2.COLOR_BGR2RGB)\r\n",
        "\r\n",
        "#                         out.write(blank_image)\r\n",
        "\r\n",
        "#                         if cv2.waitKey(1) & 0xFF == ord('q'):\r\n",
        "#                             break\r\n",
        "#                     else:\r\n",
        "#                         #   print(\"broken\")\r\n",
        "#                         break  \r\n",
        "                \r\n",
        "#                 hands.close()\r\n",
        "#                 cap.release()\r\n",
        "#                 out.release()\r\n",
        "#                 #   print(\"loop for break\")\r\n",
        "\r\n",
        "#                 # Closes all the frames\r\n",
        "#                 cv2.destroyAllWindows() \r\n",
        "#                 count = 0\r\n",
        "#                 dct = {}\r\n",
        "#                 op.append(data)\r\n",
        "#                 for lnd in op:\r\n",
        "#                     dct[\"landmark_\"+str(count)] = lnd\r\n",
        "#                     count += 1\r\n",
        "#                 dct[\"label\"] = inp\r\n",
        "#                 x.append(dct)\r\n",
        "#                 #   print(df2)\r\n",
        "\r\n",
        "\r\n",
        "\r\n"
      ],
      "execution_count": 18,
      "outputs": [
        {
          "output_type": "stream",
          "text": [
            " 35%|███▍      | 226/654 [00:03<00:07, 59.11it/s]\n"
          ],
          "name": "stderr"
        },
        {
          "output_type": "error",
          "ename": "KeyboardInterrupt",
          "evalue": "ignored",
          "traceback": [
            "\u001b[0;31m---------------------------------------------------------------------------\u001b[0m",
            "\u001b[0;31mKeyboardInterrupt\u001b[0m                         Traceback (most recent call last)",
            "\u001b[0;32m<ipython-input-18-319203d12e66>\u001b[0m in \u001b[0;36m<module>\u001b[0;34m()\u001b[0m\n\u001b[1;32m     70\u001b[0m                         \u001b[0;32mbreak\u001b[0m\u001b[0;34m\u001b[0m\u001b[0;34m\u001b[0m\u001b[0m\n\u001b[1;32m     71\u001b[0m \u001b[0;34m\u001b[0m\u001b[0m\n\u001b[0;32m---> 72\u001b[0;31m                 \u001b[0mhands\u001b[0m\u001b[0;34m.\u001b[0m\u001b[0mclose\u001b[0m\u001b[0;34m(\u001b[0m\u001b[0;34m)\u001b[0m\u001b[0;34m\u001b[0m\u001b[0;34m\u001b[0m\u001b[0m\n\u001b[0m\u001b[1;32m     73\u001b[0m                 \u001b[0mcap\u001b[0m\u001b[0;34m.\u001b[0m\u001b[0mrelease\u001b[0m\u001b[0;34m(\u001b[0m\u001b[0;34m)\u001b[0m\u001b[0;34m\u001b[0m\u001b[0;34m\u001b[0m\u001b[0m\n\u001b[1;32m     74\u001b[0m                 \u001b[0mout\u001b[0m\u001b[0;34m.\u001b[0m\u001b[0mrelease\u001b[0m\u001b[0;34m(\u001b[0m\u001b[0;34m)\u001b[0m\u001b[0;34m\u001b[0m\u001b[0;34m\u001b[0m\u001b[0m\n",
            "\u001b[0;32m/usr/local/lib/python3.6/dist-packages/mediapipe/python/solution_base.py\u001b[0m in \u001b[0;36mclose\u001b[0;34m(self)\u001b[0m\n\u001b[1;32m    317\u001b[0m   \u001b[0;32mdef\u001b[0m \u001b[0mclose\u001b[0m\u001b[0;34m(\u001b[0m\u001b[0mself\u001b[0m\u001b[0;34m)\u001b[0m \u001b[0;34m->\u001b[0m \u001b[0;32mNone\u001b[0m\u001b[0;34m:\u001b[0m\u001b[0;34m\u001b[0m\u001b[0;34m\u001b[0m\u001b[0m\n\u001b[1;32m    318\u001b[0m     \u001b[0;34m\"\"\"Closes all the input sources and the graph.\"\"\"\u001b[0m\u001b[0;34m\u001b[0m\u001b[0;34m\u001b[0m\u001b[0m\n\u001b[0;32m--> 319\u001b[0;31m     \u001b[0mself\u001b[0m\u001b[0;34m.\u001b[0m\u001b[0m_graph\u001b[0m\u001b[0;34m.\u001b[0m\u001b[0mclose\u001b[0m\u001b[0;34m(\u001b[0m\u001b[0;34m)\u001b[0m\u001b[0;34m\u001b[0m\u001b[0;34m\u001b[0m\u001b[0m\n\u001b[0m\u001b[1;32m    320\u001b[0m     \u001b[0mself\u001b[0m\u001b[0;34m.\u001b[0m\u001b[0m_graph\u001b[0m \u001b[0;34m=\u001b[0m \u001b[0;32mNone\u001b[0m\u001b[0;34m\u001b[0m\u001b[0;34m\u001b[0m\u001b[0m\n\u001b[1;32m    321\u001b[0m     \u001b[0mself\u001b[0m\u001b[0;34m.\u001b[0m\u001b[0m_input_stream_type_info\u001b[0m \u001b[0;34m=\u001b[0m \u001b[0;32mNone\u001b[0m\u001b[0;34m\u001b[0m\u001b[0;34m\u001b[0m\u001b[0m\n",
            "\u001b[0;31mKeyboardInterrupt\u001b[0m: "
          ]
        }
      ]
    },
    {
      "cell_type": "code",
      "metadata": {
        "colab": {
          "base_uri": "https://localhost:8080/",
          "height": 1000
        },
        "id": "WRDC29KOvLj2",
        "outputId": "3de0900f-d983-446c-f1f1-e0e82b271c94"
      },
      "source": [
        "main_lst = []\r\n",
        "for person in (os.listdir(path_to_parent)):\r\n",
        "    if person == \"SupriyaPanda\" or person == \"Swadesh Patra\" or person == \"Andhavarapu Supriya\":\r\n",
        "        for folder in os.listdir(path_to_parent+\"/\"+person):\r\n",
        "            for inp in tqdm(os.listdir(path_to_parent+\"/\"+person+\"/\"+folder)):\r\n",
        "                x=mediapipe(path_to_parent+\"/\"+person+\"/\"+folder+\"/\"+inp)\r\n",
        "                main_lst.append(x)"
      ],
      "execution_count": 13,
      "outputs": [
        {
          "output_type": "stream",
          "text": [
            "  1%|          | 7/654 [00:00<00:10, 63.13it/s]"
          ],
          "name": "stderr"
        },
        {
          "output_type": "stream",
          "text": [
            "Autorikshaw.mp4\n",
            "False\n",
            "adua.mp4\n",
            "False\n",
            "Anta_waist.mp4\n",
            "False\n",
            "Anda_Egg.mp4\n",
            "False\n",
            "Adhika.mp4\n",
            "False\n",
            "Anubhav kariba.mp4\n",
            "False\n",
            "Anubhav 2.mp4\n",
            "False\n",
            "Anusaran.mp4\n",
            "False\n",
            "Injection.mp4\n",
            "False\n",
            "ApachayaWaste.mp4\n",
            "False\n",
            "apabyayispendthrift.mp4\n",
            "False\n",
            "AparadhaCrime.mp4\n",
            "False\n",
            "Aparanha.mp4\n",
            "False\n"
          ],
          "name": "stdout"
        },
        {
          "output_type": "stream",
          "text": [
            "  3%|▎         | 21/654 [00:00<00:10, 62.41it/s]"
          ],
          "name": "stderr"
        },
        {
          "output_type": "stream",
          "text": [
            "Apariskara2.mp4\n",
            "False\n",
            "Apekhya.mp4\n",
            "False\n",
            "AbhimukhaTowards.mp4\n",
            "False\n",
            "astralia2.mp4\n",
            "False\n",
            "kana.mp4\n",
            "False\n",
            "scissor.mp4\n",
            "False\n",
            "kainchaTortoise.mp4\n",
            "False\n",
            "kaincha2.mp4\n",
            "False\n",
            "kangaroo.mp4\n",
            "False\n",
            "pradanakaribaPay.mp4\n",
            "False\n",
            "Karnattaka.mp4\n",
            "False\n",
            "dog.mp4\n",
            "False\n",
            "kudiba, deinba.mp4\n",
            "False\n",
            "coimbatore.mp4\n"
          ],
          "name": "stdout"
        },
        {
          "output_type": "stream",
          "text": [
            "  5%|▌         | 35/654 [00:00<00:09, 62.92it/s]"
          ],
          "name": "stderr"
        },
        {
          "output_type": "stream",
          "text": [
            "False\n",
            "cochin.mp4\n",
            "False\n",
            "culcutta.mp4\n",
            "False\n",
            "carrom.mp4\n",
            "False\n",
            "bangel.mp4\n",
            "False\n",
            "bad1.mp4\n",
            "False\n",
            "bell.mp4\n",
            "False\n",
            "chocolate.mp4\n",
            "False\n",
            "chandigarh.mp4\n",
            "False\n",
            "chamada_leather.mp4\n",
            "False\n",
            "chakara_sevent (1).mp4\n",
            "False\n",
            "chideiba_tease.mp4\n",
            "False\n",
            "chumbaka.mp4\n",
            "False\n",
            "cheque.mp4\n",
            "False\n"
          ],
          "name": "stdout"
        },
        {
          "output_type": "stream",
          "text": [
            "  7%|▋         | 48/654 [00:00<00:09, 60.94it/s]"
          ],
          "name": "stderr"
        },
        {
          "output_type": "stream",
          "text": [
            "cross.mp4\n",
            "False\n",
            "bhasiba_float.mp4\n",
            "False\n",
            "chotaa_lame.mp4\n",
            "False\n",
            "zebra.mp4\n",
            "False\n",
            "dhar aniba.mp4\n",
            "False\n",
            "nepal 2.mp4\n",
            "False\n",
            "paijama.mp4\n",
            "False\n",
            "pauruti_bread.mp4\n",
            "False\n",
            "pauruti1.mp4\n",
            "False\n",
            "pakistan.mp4\n",
            "False\n",
            "pani jahaja_ship.mp4\n",
            "False\n",
            "pada_foot.mp4\n",
            "False\n",
            "padaAngudi_toes.mp4\n"
          ],
          "name": "stdout"
        },
        {
          "output_type": "stream",
          "text": [
            "  9%|▉         | 62/654 [00:00<00:09, 62.35it/s]"
          ],
          "name": "stderr"
        },
        {
          "output_type": "stream",
          "text": [
            "False\n",
            "pania_comb.mp4\n",
            "False\n",
            "papada.mp4\n",
            "False\n",
            "samartha_can.mp4\n",
            "False\n",
            "parthana.mp4\n",
            "False\n",
            "polishkariba.mp4\n",
            "False\n",
            "chotaPahada.mp4\n",
            "False\n",
            "chaparasi_peon.mp4\n",
            "False\n",
            "pithi_back.mp4\n",
            "False\n",
            "pitala_brass.mp4\n",
            "False\n",
            "pindhiba.mp4\n",
            "False\n",
            "pimpudi_ant.mp4\n",
            "False\n",
            "pilamane.mp4\n",
            "False\n",
            "puja.mp4\n"
          ],
          "name": "stdout"
        },
        {
          "output_type": "stream",
          "text": [
            " 11%|█▏        | 75/654 [00:01<00:09, 61.20it/s]"
          ],
          "name": "stderr"
        },
        {
          "output_type": "stream",
          "text": [
            "False\n",
            "punithare.mp4\n",
            "False\n",
            "barambara.mp4\n",
            "False\n",
            "purabisistaRuti_sandwitch.mp4\n",
            "False\n",
            "puranakariba_fill.mp4\n",
            "False\n",
            "purna_full.mp4\n",
            "False\n",
            "full1.mp4\n",
            "False\n",
            "puri.mp4\n",
            "False\n",
            "purohita_priest.mp4\n",
            "False\n",
            "purba_east.mp4\n",
            "False\n",
            "purbaru_before.mp4\n",
            "False\n",
            "purbadina_yesterday.mp4\n",
            "False\n",
            "pruthibi_world.mp4\n",
            "False\n",
            "pencil1.mp4\n",
            "False\n"
          ],
          "name": "stdout"
        },
        {
          "output_type": "stream",
          "text": [
            " 14%|█▎        | 89/654 [00:01<00:09, 61.74it/s]"
          ],
          "name": "stderr"
        },
        {
          "output_type": "stream",
          "text": [
            "peliba_push.mp4\n",
            "False\n",
            "bruti_proffession.mp4\n",
            "False\n",
            "pokaSarisrupa_insect.mp4\n",
            "False\n",
            "pochiba_wipe.mp4\n",
            "False\n",
            "pola_bridge.mp4\n",
            "False\n",
            "pola_hallow.mp4\n",
            "False\n",
            "police.mp4\n",
            "False\n",
            "police1.mp4\n",
            "False\n",
            "policekarmastana_policestation.mp4\n",
            "False\n",
            "posaka_dress.mp4\n",
            "False\n",
            "postcard.mp4\n",
            "False\n",
            "pant.mp4\n",
            "False\n",
            "prakasanakariba_publish.mp4\n",
            "False\n"
          ],
          "name": "stdout"
        },
        {
          "output_type": "stream",
          "text": [
            " 16%|█▌        | 103/654 [00:01<00:08, 62.61it/s]"
          ],
          "name": "stderr"
        },
        {
          "output_type": "stream",
          "text": [
            "prajapati_butterfly.mp4\n",
            "False\n",
            "dhruta_cunning.mp4\n",
            "False\n",
            "promise1.mp4\n",
            "False\n",
            "prathamaMahala_1srfloor.mp4\n",
            "False\n",
            "pradhanaMantri.mp4\n",
            "False\n",
            "prabesaDwara_gate.mp4\n",
            "False\n",
            "pramanaPatra_certificate.mp4\n",
            "False\n",
            "prasansha_praise.mp4\n",
            "False\n",
            "prashansa.mp4\n",
            "False\n",
            "prasidhha_famous.mp4\n",
            "False\n",
            "prasidhha1.mp4\n",
            "False\n",
            "plastic.mp4\n",
            "False\n",
            "inch.mp4\n",
            "False\n"
          ],
          "name": "stdout"
        },
        {
          "output_type": "stream",
          "text": [
            " 18%|█▊        | 117/654 [00:01<00:08, 60.32it/s]"
          ],
          "name": "stderr"
        },
        {
          "output_type": "stream",
          "text": [
            "phuteiba_boil.mp4\n",
            "False\n",
            "phula.mp4\n",
            "False\n",
            "phulaRenu_Allergy.mp4\n",
            "False\n",
            "fabruary.mp4\n",
            "False\n",
            "pheriba_return.mp4\n",
            "False\n",
            "buliba_turn.mp4\n",
            "False\n",
            "phopadiba_throw.mp4\n",
            "False\n",
            "frock.mp4\n",
            "False\n",
            "vada.mp4\n",
            "False\n",
            "bangladesh.mp4\n",
            "False\n",
            "badam_nut.mp4\n",
            "False\n",
            "balcony.mp4\n",
            "False\n",
            "beans.mp4\n"
          ],
          "name": "stdout"
        },
        {
          "output_type": "stream",
          "text": [
            "\r 19%|█▉        | 124/654 [00:02<00:08, 60.67it/s]"
          ],
          "name": "stderr"
        },
        {
          "output_type": "stream",
          "text": [
            "False\n",
            "bisudhha_pure.mp4\n",
            "False\n",
            "AraamKariba_bishramKariba.mp4\n",
            "False\n",
            "aatma biswasa.mp4\n",
            "False\n",
            "bisakta.mp4\n",
            "False\n",
            "Byabadhana_distance.mp4\n",
            "False\n",
            "bank.mp4\n",
            "False\n",
            "bhangda.mp4\n",
            "False\n",
            "bhalu.mp4\n",
            "False\n",
            "fridge.mp4\n",
            "False\n",
            "van.mp4\n",
            "False\n",
            "mug.mp4\n",
            "False\n",
            "mangalabara.mp4\n",
            "False\n",
            "maneRakhiba_memorise.mp4\n",
            "False\n"
          ],
          "name": "stdout"
        },
        {
          "output_type": "stream",
          "text": [
            " 21%|██        | 138/654 [00:02<00:08, 60.56it/s]"
          ],
          "name": "stderr"
        },
        {
          "output_type": "stream",
          "text": [
            "mile.mp4\n",
            "False\n",
            "mankada.mp4\n",
            "False\n",
            "pruthibi_earth.mp4\n",
            "False\n",
            "march.mp4\n",
            "False\n",
            "mali_gardener.mp4\n",
            "False\n",
            "chalachitrapakhepana_jantra.mp4\n",
            "False\n",
            "drushyaman aaloka chitra uthaiba jantra.mp4\n",
            "False\n",
            "mudra, dhatu (1).mp4\n",
            "False\n",
            "mumbai.mp4\n",
            "False\n",
            "mote.mp4\n",
            "False\n",
            "mora.mp4\n",
            "False\n",
            "Janala_twins.mp4\n",
            "False\n",
            "janabahana_vehicles.mp4\n",
            "False\n"
          ],
          "name": "stdout"
        },
        {
          "output_type": "stream",
          "text": [
            " 23%|██▎       | 152/654 [00:02<00:08, 62.62it/s]"
          ],
          "name": "stderr"
        },
        {
          "output_type": "stream",
          "text": [
            "jantrika_mechanic.mp4\n",
            "False\n",
            "juktarastraAmericara mudra_dollar.mp4\n",
            "False\n",
            "jesus.mp4\n",
            "False\n",
            "joganaKariba_supply.mp4\n",
            "False\n",
            "ranjana rashmi.mp4\n",
            "False\n",
            "rabibar 1.mp4\n",
            "False\n",
            "rajdhani.mp4\n",
            "False\n",
            "rajasthan.mp4\n",
            "False\n",
            "raaji heba.mp4\n",
            "False\n",
            "rajya.mp4\n",
            "False\n",
            "raandhiba 1.mp4\n",
            "False\n",
            "russia.mp4\n",
            "False\n",
            "re, thare.mp4\n",
            "False\n",
            "rail gadi re sayana sthana.mp4\n"
          ],
          "name": "stdout"
        },
        {
          "output_type": "stream",
          "text": [
            " 25%|██▌       | 166/654 [00:02<00:08, 60.61it/s]"
          ],
          "name": "stderr"
        },
        {
          "output_type": "stream",
          "text": [
            "False\n",
            "rail daba.mp4\n",
            "False\n",
            "resham 1.mp4\n",
            "False\n",
            "lucknow.mp4\n",
            "False\n",
            "litre.mp4\n",
            "False\n",
            "shanivar 3.mp4\n",
            "False\n",
            "sapatha_oath.mp4\n",
            "False\n",
            "sabdda_sound.mp4\n",
            "False\n",
            "sikh 2.mp4\n",
            "False\n",
            "shukra baar 1 (1).mp4\n",
            "False\n",
            "shukra baar 1.mp4\n",
            "False\n",
            "suniba jantra 1.mp4\n",
            "False\n",
            "suniba jantra 2.mp4\n",
            "False\n"
          ],
          "name": "stdout"
        },
        {
          "output_type": "stream",
          "text": [
            " 28%|██▊       | 180/654 [00:02<00:07, 62.05it/s]"
          ],
          "name": "stderr"
        },
        {
          "output_type": "stream",
          "text": [
            "soiba.mp4\n",
            "False\n",
            "souchagara 1.mp4\n",
            "False\n",
            "srabana srabana shakti.mp4\n",
            "False\n",
            "sakala 1.mp4\n",
            "False\n",
            "sapeta_chickoo.mp4\n",
            "False\n",
            "saptaha_week.mp4\n",
            "False\n",
            "swachha.mp4\n",
            "False\n",
            "samaya.mp4\n",
            "False\n",
            "samana_same.mp4\n",
            "False\n",
            "samparkiya.mp4\n",
            "False\n",
            "sidhi_ladder.mp4\n",
            "False\n",
            "sitar.mp4\n",
            "False\n",
            "cement.mp4\n",
            "False\n",
            "sileiJantra_sewingMachine.mp4\n",
            "False\n"
          ],
          "name": "stdout"
        },
        {
          "output_type": "stream",
          "text": [
            " 30%|██▉       | 194/654 [00:03<00:07, 62.67it/s]"
          ],
          "name": "stderr"
        },
        {
          "output_type": "stream",
          "text": [
            "manePakaiba.mp4\n",
            "False\n",
            "sweater.mp4\n",
            "False\n",
            "Haija_cholera.mp4\n",
            "False\n",
            "haija.mp4\n",
            "False\n",
            "haija 2.mp4\n",
            "False\n",
            "hariyana.mp4\n",
            "False\n",
            "helicopter.mp4\n",
            "False\n",
            "helicaptor.mp4\n",
            "False\n",
            "england.mp4\n",
            "False\n",
            "idly.mp4\n",
            "False\n",
            "idd.mp4\n",
            "False\n",
            "fax.mp4\n",
            "False\n",
            "miliLitre.mp4\n",
            "False\n",
            "kilometer.mp4\n"
          ],
          "name": "stdout"
        },
        {
          "output_type": "stream",
          "text": [
            " 32%|███▏      | 208/654 [00:03<00:07, 62.10it/s]"
          ],
          "name": "stderr"
        },
        {
          "output_type": "stream",
          "text": [
            "False\n",
            "weight.mp4\n",
            "False\n",
            "Autorikshaw.mp4out+.mp4\n",
            "False\n",
            "adua.mp4out+.mp4\n",
            "False\n",
            "Anta_waist.mp4out+.mp4\n",
            "False\n",
            "Anda_Egg.mp4out+.mp4\n",
            "False\n",
            "Adhika.mp4out+.mp4\n",
            "False\n",
            "Anubhav kariba.mp4out+.mp4\n",
            "False\n",
            "Anubhav 2.mp4out+.mp4\n",
            "False\n",
            "Anusaran.mp4out+.mp4\n",
            "False\n",
            "Injection.mp4out+.mp4\n",
            "False\n",
            "ApachayaWaste.mp4out+.mp4\n",
            "False\n",
            "apabyayispendthrift.mp4out+.mp4\n",
            "False\n"
          ],
          "name": "stdout"
        },
        {
          "output_type": "stream",
          "text": [
            " 34%|███▍      | 222/654 [00:03<00:06, 63.13it/s]"
          ],
          "name": "stderr"
        },
        {
          "output_type": "stream",
          "text": [
            "AparadhaCrime.mp4out+.mp4\n",
            "False\n",
            "Aparanha.mp4out+.mp4\n",
            "False\n",
            "Apariskara2.mp4out+.mp4\n",
            "False\n",
            "Apekhya.mp4out+.mp4\n",
            "False\n",
            "AbhimukhaTowards.mp4out+.mp4\n",
            "False\n",
            "abhyasa.mp4out+.mp4\n",
            "False\n",
            "astralia2.mp4out+.mp4\n",
            "False\n",
            "Autorikshaw.mp4out.mp4\n",
            "False\n",
            "adua.mp4out.mp4\n",
            "False\n",
            "Anta_waist.mp4out.mp4\n",
            "False\n",
            "Anda_Egg.mp4out.mp4\n",
            "False\n",
            "Adhika.mp4out.mp4\n",
            "False\n",
            "Anubhav kariba.mp4out.mp4\n",
            "False\n",
            "Anubhav 2.mp4out.mp4"
          ],
          "name": "stdout"
        },
        {
          "output_type": "stream",
          "text": [
            "\r 35%|███▌      | 229/654 [00:03<00:06, 62.19it/s]"
          ],
          "name": "stderr"
        },
        {
          "output_type": "stream",
          "text": [
            "\n",
            "False\n",
            "Anusaran.mp4out.mp4\n",
            "False\n",
            "Injection.mp4out.mp4\n",
            "False\n",
            "ApachayaWaste.mp4out.mp4\n",
            "False\n",
            "apabyayispendthrift.mp4out.mp4\n",
            "False\n",
            "AparadhaCrime.mp4out.mp4\n",
            "False\n",
            "Aparanha.mp4out.mp4\n",
            "False\n",
            "Apariskara2.mp4out.mp4\n",
            "False\n",
            "Apekhya.mp4out.mp4\n",
            "False\n",
            "AbhimukhaTowards.mp4out.mp4\n",
            "False\n",
            "abhyasa.mp4out.mp4\n",
            "False\n",
            "astralia2.mp4out.mp4\n",
            "False\n",
            "kana.mp4out.mp4\n",
            "False\n"
          ],
          "name": "stdout"
        },
        {
          "output_type": "stream",
          "text": [
            " 36%|███▌      | 236/654 [00:03<00:06, 60.10it/s]"
          ],
          "name": "stderr"
        },
        {
          "output_type": "stream",
          "text": [
            "scissor.mp4out.mp4\n",
            "False\n",
            "kainchaTortoise.mp4out.mp4\n",
            "False\n",
            "kaincha2.mp4out.mp4\n",
            "False\n",
            "KandheiDoll.mp4out.mp4\n",
            "False\n",
            "Lembu.mp4out.mp4\n",
            "False\n",
            "pradanakaribaPay.mp4out.mp4\n",
            "False\n",
            "Karnattaka.mp4out.mp4\n",
            "False\n"
          ],
          "name": "stdout"
        },
        {
          "output_type": "stream",
          "text": [
            "\n"
          ],
          "name": "stderr"
        },
        {
          "output_type": "error",
          "ename": "KeyboardInterrupt",
          "evalue": "ignored",
          "traceback": [
            "\u001b[0;31m---------------------------------------------------------------------------\u001b[0m",
            "\u001b[0;31mKeyboardInterrupt\u001b[0m                         Traceback (most recent call last)",
            "\u001b[0;32m<ipython-input-13-405eae9f5ea6>\u001b[0m in \u001b[0;36m<module>\u001b[0;34m()\u001b[0m\n\u001b[1;32m      4\u001b[0m         \u001b[0;32mfor\u001b[0m \u001b[0mfolder\u001b[0m \u001b[0;32min\u001b[0m \u001b[0mos\u001b[0m\u001b[0;34m.\u001b[0m\u001b[0mlistdir\u001b[0m\u001b[0;34m(\u001b[0m\u001b[0mpath_to_parent\u001b[0m\u001b[0;34m+\u001b[0m\u001b[0;34m\"/\"\u001b[0m\u001b[0;34m+\u001b[0m\u001b[0mperson\u001b[0m\u001b[0;34m)\u001b[0m\u001b[0;34m:\u001b[0m\u001b[0;34m\u001b[0m\u001b[0;34m\u001b[0m\u001b[0m\n\u001b[1;32m      5\u001b[0m             \u001b[0;32mfor\u001b[0m \u001b[0minp\u001b[0m \u001b[0;32min\u001b[0m \u001b[0mtqdm\u001b[0m\u001b[0;34m(\u001b[0m\u001b[0mos\u001b[0m\u001b[0;34m.\u001b[0m\u001b[0mlistdir\u001b[0m\u001b[0;34m(\u001b[0m\u001b[0mpath_to_parent\u001b[0m\u001b[0;34m+\u001b[0m\u001b[0;34m\"/\"\u001b[0m\u001b[0;34m+\u001b[0m\u001b[0mperson\u001b[0m\u001b[0;34m+\u001b[0m\u001b[0;34m\"/\"\u001b[0m\u001b[0;34m+\u001b[0m\u001b[0mfolder\u001b[0m\u001b[0;34m)\u001b[0m\u001b[0;34m)\u001b[0m\u001b[0;34m:\u001b[0m\u001b[0;34m\u001b[0m\u001b[0;34m\u001b[0m\u001b[0m\n\u001b[0;32m----> 6\u001b[0;31m                 \u001b[0mx\u001b[0m\u001b[0;34m=\u001b[0m\u001b[0mmediapipe\u001b[0m\u001b[0;34m(\u001b[0m\u001b[0mpath_to_parent\u001b[0m\u001b[0;34m+\u001b[0m\u001b[0;34m\"/\"\u001b[0m\u001b[0;34m+\u001b[0m\u001b[0mperson\u001b[0m\u001b[0;34m+\u001b[0m\u001b[0;34m\"/\"\u001b[0m\u001b[0;34m+\u001b[0m\u001b[0mfolder\u001b[0m\u001b[0;34m+\u001b[0m\u001b[0;34m\"/\"\u001b[0m\u001b[0;34m+\u001b[0m\u001b[0minp\u001b[0m\u001b[0;34m)\u001b[0m\u001b[0;34m\u001b[0m\u001b[0;34m\u001b[0m\u001b[0m\n\u001b[0m\u001b[1;32m      7\u001b[0m                 \u001b[0mmain_lst\u001b[0m\u001b[0;34m.\u001b[0m\u001b[0mappend\u001b[0m\u001b[0;34m(\u001b[0m\u001b[0mx\u001b[0m\u001b[0;34m)\u001b[0m\u001b[0;34m\u001b[0m\u001b[0;34m\u001b[0m\u001b[0m\n",
            "\u001b[0;32m<ipython-input-12-fbb560e868ac>\u001b[0m in \u001b[0;36mmediapipe\u001b[0;34m(path)\u001b[0m\n\u001b[1;32m     82\u001b[0m \u001b[0;34m\u001b[0m\u001b[0m\n\u001b[1;32m     83\u001b[0m \u001b[0;34m\u001b[0m\u001b[0m\n\u001b[0;32m---> 84\u001b[0;31m   \u001b[0mhands\u001b[0m\u001b[0;34m.\u001b[0m\u001b[0mclose\u001b[0m\u001b[0;34m(\u001b[0m\u001b[0;34m)\u001b[0m\u001b[0;34m\u001b[0m\u001b[0;34m\u001b[0m\u001b[0m\n\u001b[0m\u001b[1;32m     85\u001b[0m   \u001b[0mcap\u001b[0m\u001b[0;34m.\u001b[0m\u001b[0mrelease\u001b[0m\u001b[0;34m(\u001b[0m\u001b[0;34m)\u001b[0m\u001b[0;34m\u001b[0m\u001b[0;34m\u001b[0m\u001b[0m\n\u001b[1;32m     86\u001b[0m   \u001b[0mout\u001b[0m\u001b[0;34m.\u001b[0m\u001b[0mrelease\u001b[0m\u001b[0;34m(\u001b[0m\u001b[0;34m)\u001b[0m\u001b[0;34m\u001b[0m\u001b[0;34m\u001b[0m\u001b[0m\n",
            "\u001b[0;32m/usr/local/lib/python3.6/dist-packages/mediapipe/python/solution_base.py\u001b[0m in \u001b[0;36mclose\u001b[0;34m(self)\u001b[0m\n\u001b[1;32m    317\u001b[0m   \u001b[0;32mdef\u001b[0m \u001b[0mclose\u001b[0m\u001b[0;34m(\u001b[0m\u001b[0mself\u001b[0m\u001b[0;34m)\u001b[0m \u001b[0;34m->\u001b[0m \u001b[0;32mNone\u001b[0m\u001b[0;34m:\u001b[0m\u001b[0;34m\u001b[0m\u001b[0;34m\u001b[0m\u001b[0m\n\u001b[1;32m    318\u001b[0m     \u001b[0;34m\"\"\"Closes all the input sources and the graph.\"\"\"\u001b[0m\u001b[0;34m\u001b[0m\u001b[0;34m\u001b[0m\u001b[0m\n\u001b[0;32m--> 319\u001b[0;31m     \u001b[0mself\u001b[0m\u001b[0;34m.\u001b[0m\u001b[0m_graph\u001b[0m\u001b[0;34m.\u001b[0m\u001b[0mclose\u001b[0m\u001b[0;34m(\u001b[0m\u001b[0;34m)\u001b[0m\u001b[0;34m\u001b[0m\u001b[0;34m\u001b[0m\u001b[0m\n\u001b[0m\u001b[1;32m    320\u001b[0m     \u001b[0mself\u001b[0m\u001b[0;34m.\u001b[0m\u001b[0m_graph\u001b[0m \u001b[0;34m=\u001b[0m \u001b[0;32mNone\u001b[0m\u001b[0;34m\u001b[0m\u001b[0;34m\u001b[0m\u001b[0m\n\u001b[1;32m    321\u001b[0m     \u001b[0mself\u001b[0m\u001b[0;34m.\u001b[0m\u001b[0m_input_stream_type_info\u001b[0m \u001b[0;34m=\u001b[0m \u001b[0;32mNone\u001b[0m\u001b[0;34m\u001b[0m\u001b[0;34m\u001b[0m\u001b[0m\n",
            "\u001b[0;31mKeyboardInterrupt\u001b[0m: "
          ]
        }
      ]
    },
    {
      "cell_type": "code",
      "metadata": {
        "colab": {
          "base_uri": "https://localhost:8080/"
        },
        "id": "UXtB1Z_hbqSO",
        "outputId": "c5e44a5f-b85e-43e0-e86b-0a062eaff380"
      },
      "source": [
        "main_lst[0][\"landmark_0\"][40]"
      ],
      "execution_count": 55,
      "outputs": [
        {
          "output_type": "execute_result",
          "data": {
            "text/plain": [
              "array([[0., 0., 0.],\n",
              "       [0., 0., 0.],\n",
              "       [0., 0., 0.],\n",
              "       [0., 0., 0.],\n",
              "       [0., 0., 0.],\n",
              "       [0., 0., 0.],\n",
              "       [0., 0., 0.],\n",
              "       [0., 0., 0.],\n",
              "       [0., 0., 0.],\n",
              "       [0., 0., 0.],\n",
              "       [0., 0., 0.],\n",
              "       [0., 0., 0.],\n",
              "       [0., 0., 0.],\n",
              "       [0., 0., 0.],\n",
              "       [0., 0., 0.],\n",
              "       [0., 0., 0.],\n",
              "       [0., 0., 0.],\n",
              "       [0., 0., 0.],\n",
              "       [0., 0., 0.],\n",
              "       [0., 0., 0.],\n",
              "       [0., 0., 0.],\n",
              "       [0., 0., 0.],\n",
              "       [0., 0., 0.],\n",
              "       [0., 0., 0.],\n",
              "       [0., 0., 0.],\n",
              "       [0., 0., 0.],\n",
              "       [0., 0., 0.],\n",
              "       [0., 0., 0.],\n",
              "       [0., 0., 0.],\n",
              "       [0., 0., 0.],\n",
              "       [0., 0., 0.],\n",
              "       [0., 0., 0.],\n",
              "       [0., 0., 0.],\n",
              "       [0., 0., 0.],\n",
              "       [0., 0., 0.],\n",
              "       [0., 0., 0.],\n",
              "       [0., 0., 0.],\n",
              "       [0., 0., 0.],\n",
              "       [0., 0., 0.],\n",
              "       [0., 0., 0.],\n",
              "       [0., 0., 0.],\n",
              "       [0., 0., 0.]])"
            ]
          },
          "metadata": {
            "tags": []
          },
          "execution_count": 55
        }
      ]
    },
    {
      "cell_type": "code",
      "metadata": {
        "colab": {
          "base_uri": "https://localhost:8080/",
          "height": 35
        },
        "id": "ox-yHL_VwMdV",
        "outputId": "30df0192-086d-4727-efe7-e373cf11371a"
      },
      "source": [
        "path_to_parent+\"/\"+person+\"/\"+folder+\"/\"+inp"
      ],
      "execution_count": 56,
      "outputs": [
        {
          "output_type": "execute_result",
          "data": {
            "application/vnd.google.colaboratory.intrinsic+json": {
              "type": "string"
            },
            "text/plain": [
              "'/content/drive/MyDrive/Sign Language Detection/SupriyaPanda/Hand separate from face/sidhi_ladder.mp4'"
            ]
          },
          "metadata": {
            "tags": []
          },
          "execution_count": 56
        }
      ]
    },
    {
      "cell_type": "code",
      "metadata": {
        "id": "9AhhErgA_oSM",
        "colab": {
          "base_uri": "https://localhost:8080/",
          "height": 106
        },
        "outputId": "579388e8-1087-4e79-e745-ae390ce23935"
      },
      "source": [
        "df = pd.DataFrame(x)\r\n",
        "df.to_pickle(\"test.pkl\")\r\n",
        "df"
      ],
      "execution_count": null,
      "outputs": [
        {
          "output_type": "execute_result",
          "data": {
            "text/html": [
              "<div>\n",
              "<style scoped>\n",
              "    .dataframe tbody tr th:only-of-type {\n",
              "        vertical-align: middle;\n",
              "    }\n",
              "\n",
              "    .dataframe tbody tr th {\n",
              "        vertical-align: top;\n",
              "    }\n",
              "\n",
              "    .dataframe thead th {\n",
              "        text-align: right;\n",
              "    }\n",
              "</style>\n",
              "<table border=\"1\" class=\"dataframe\">\n",
              "  <thead>\n",
              "    <tr style=\"text-align: right;\">\n",
              "      <th></th>\n",
              "      <th>landmark_0</th>\n",
              "      <th>label</th>\n",
              "    </tr>\n",
              "  </thead>\n",
              "  <tbody>\n",
              "    <tr>\n",
              "      <th>0</th>\n",
              "      <td>[[[0.0, 0.0, 0.0], [0.0, 0.0, 0.0], [0.0, 0.0,...</td>\n",
              "      <td>Autorikshaw.mp4</td>\n",
              "    </tr>\n",
              "    <tr>\n",
              "      <th>1</th>\n",
              "      <td>[[[0.0, 0.0, 0.0], [0.0, 0.0, 0.0], [0.0, 0.0,...</td>\n",
              "      <td>adua.mp4</td>\n",
              "    </tr>\n",
              "  </tbody>\n",
              "</table>\n",
              "</div>"
            ],
            "text/plain": [
              "                                          landmark_0            label\n",
              "0  [[[0.0, 0.0, 0.0], [0.0, 0.0, 0.0], [0.0, 0.0,...  Autorikshaw.mp4\n",
              "1  [[[0.0, 0.0, 0.0], [0.0, 0.0, 0.0], [0.0, 0.0,...         adua.mp4"
            ]
          },
          "metadata": {
            "tags": []
          },
          "execution_count": 93
        }
      ]
    },
    {
      "cell_type": "code",
      "metadata": {
        "colab": {
          "base_uri": "https://localhost:8080/"
        },
        "id": "aN5bO8fSVR2-",
        "outputId": "0d19c854-3004-4626-fe54-a065e0067cf3"
      },
      "source": [
        "df.iloc[0].landmark_0[42]"
      ],
      "execution_count": null,
      "outputs": [
        {
          "output_type": "execute_result",
          "data": {
            "text/plain": [
              "array([[ 3.05143237e-01,  1.00626981e+00,  1.92942321e-06],\n",
              "       [ 3.19671214e-01,  9.44295704e-01,  1.73543375e-02],\n",
              "       [ 3.20854247e-01,  9.06455517e-01,  4.55460846e-02],\n",
              "       [ 3.20434213e-01,  8.87017250e-01,  7.27983713e-02],\n",
              "       [ 3.19493383e-01,  8.76454115e-01,  9.82649103e-02],\n",
              "       [ 2.93719202e-01,  9.00459051e-01,  7.61673003e-02],\n",
              "       [ 3.05204988e-01,  8.82404566e-01,  1.15011618e-01],\n",
              "       [ 3.15045983e-01,  8.84595811e-01,  1.25500381e-01],\n",
              "       [ 3.19930434e-01,  8.93181205e-01,  1.26600131e-01],\n",
              "       [ 2.91962534e-01,  9.20557916e-01,  8.35381746e-02],\n",
              "       [ 3.02235842e-01,  8.98495138e-01,  1.26922950e-01],\n",
              "       [ 3.11526626e-01,  8.93729627e-01,  1.27136499e-01],\n",
              "       [ 3.16814393e-01,  8.98321807e-01,  1.26549721e-01],\n",
              "       [ 2.94517189e-01,  9.39322412e-01,  9.26548839e-02],\n",
              "       [ 3.07024986e-01,  9.24375713e-01,  1.28544196e-01],\n",
              "       [ 3.14121902e-01,  9.24288213e-01,  1.09466843e-01],\n",
              "       [ 3.15608323e-01,  9.31783855e-01,  9.57810879e-02],\n",
              "       [ 2.97955573e-01,  9.53466833e-01,  1.02646694e-01],\n",
              "       [ 3.07617426e-01,  9.41060185e-01,  1.24352835e-01],\n",
              "       [ 3.14377695e-01,  9.41806316e-01,  1.20009631e-01],\n",
              "       [ 3.17562699e-01,  9.47667122e-01,  1.19096145e-01],\n",
              "       [ 6.84238553e-01,  5.23412526e-01, -3.38623249e-05],\n",
              "       [ 6.49856687e-01,  5.45684695e-01,  1.08075654e-02],\n",
              "       [ 6.31277502e-01,  5.78472376e-01,  2.06682235e-02],\n",
              "       [ 6.24570668e-01,  6.11403346e-01,  3.32699977e-02],\n",
              "       [ 6.25394464e-01,  6.31637335e-01,  4.64194119e-02],\n",
              "       [ 6.53559387e-01,  6.33477628e-01,  7.36927288e-03],\n",
              "       [ 6.42211437e-01,  6.45294011e-01,  4.31162454e-02],\n",
              "       [ 6.38346910e-01,  6.33387506e-01,  6.23146817e-02],\n",
              "       [ 6.37999535e-01,  6.16830111e-01,  6.78882226e-02],\n",
              "       [ 6.71141088e-01,  6.37095928e-01,  1.25012919e-02],\n",
              "       [ 6.57674789e-01,  6.46696329e-01,  5.05713932e-02],\n",
              "       [ 6.51433110e-01,  6.35486424e-01,  6.42823651e-02],\n",
              "       [ 6.50311649e-01,  6.19998753e-01,  6.45506829e-02],\n",
              "       [ 6.86095059e-01,  6.29682183e-01,  2.22293008e-02],\n",
              "       [ 6.72813535e-01,  6.37403548e-01,  5.64949363e-02],\n",
              "       [ 6.67001843e-01,  6.26604795e-01,  6.83549643e-02],\n",
              "       [ 6.64928257e-01,  6.12390280e-01,  6.63470253e-02],\n",
              "       [ 6.97648346e-01,  6.18413627e-01,  3.20289545e-02],\n",
              "       [ 6.85506821e-01,  6.27630413e-01,  5.85754998e-02],\n",
              "       [ 6.80455863e-01,  6.18870139e-01,  7.04804063e-02],\n",
              "       [ 6.79457784e-01,  6.07568562e-01,  7.38035142e-02]])"
            ]
          },
          "metadata": {
            "tags": []
          },
          "execution_count": 96
        }
      ]
    },
    {
      "cell_type": "code",
      "metadata": {
        "id": "cyOTk7sjzM-i"
      },
      "source": [
        "# import cv2\n",
        "# import mediapipe as mp\n",
        "# import numpy as np\n",
        "# import os\n",
        "\n",
        "# path_to_parent = \"/content/drive/My Drive/Sign Language Detection/Swadesh Patra/No overlap\"\n",
        "\n",
        "# mp_drawing = mp.solutions.drawing_utils\n",
        "# mp_hands = mp.solutions.hands\n",
        "\n",
        "# hands = mp_hands.Hands(min_detection_confidence=0.7, max_num_hands = 2, min_tracking_confidence=0.7)\n",
        "# cap = cv2.VideoCapture(path_to_parent+\"/\"+\"idly.mp4\")\n",
        "\n",
        "# # Default resolutions of the frame are obtained.The default resolutions are system dependent.\n",
        "# # We convert the resolutions from float to integer.\n",
        "# frame_width = int(cap.get(3))\n",
        "# frame_height = int(cap.get(4))\n",
        "\n",
        "# fourcc = cv2.VideoWriter_fourcc('M','J','P','G')\n",
        "# # fourcc = cv2.VideoWriter_fourcc(*'FMP4')\n",
        "# out = cv2.VideoWriter('outpy.avi', fourcc, 25, (frame_width,frame_height))\n",
        "# # Define the codec and create VideoWriter object.The output is stored in 'outpy.avi' file.\n",
        "# olx=[]\n",
        "# op = []\n",
        "\n",
        "# while(True):\n",
        "#   ret, image = cap.read()\n",
        "#   # print(ret)\n",
        "#   if ret == True: \n",
        "#     image = cv2.cvtColor(cv2.flip(image, 1), cv2.COLOR_BGR2RGB)\n",
        "#     # To improve performance, optionally mark the image as not writeable to\n",
        "#     # pass by reference.\n",
        "#     image.flags.writeable = False\n",
        "#     results = hands.process(image)\n",
        "    \n",
        "#     blank_image = np.zeros(shape=[frame_height, frame_width, 3], dtype=np.uint8)\n",
        "\n",
        "#     # Draw the hand annotations on the image.\n",
        "#     blank_image.flags.writeable = True\n",
        "    \n",
        "#     if results.multi_hand_landmarks:\n",
        "#         # print(len(results.multi_hand_landmarks))\n",
        "#         op.append(results.multi_hand_landmarks)\n",
        "#         # print(\"---------------------------\")\n",
        "#         # print(results.multi_handedness)\n",
        "#         for hand_landmarks in results.multi_hand_landmarks:\n",
        "#             for lnd in hand_landmarks.landmark:\n",
        "#                 # lnd.x = lnd.x + 0.0001\n",
        "#                 # lnd.y = lnd.y + 0.0001\n",
        "#                 # lnd.z = lnd.z + 0.00000001\n",
        "#             # print(results.multi_hand_landmarks)\n",
        "#                 mp_drawing.draw_landmarks(blank_image, hand_landmarks, mp_hands.HAND_CONNECTIONS)\n",
        "#             # op.append(hand_landmarks)\n",
        "#     # cv2.imshow('MediaPipe Hands', blank_image)\n",
        "    \n",
        "#     blank_image = cv2.cvtColor(cv2.flip(blank_image, 1),cv2.COLOR_BGR2RGB)\n",
        "\n",
        "#     out.write(blank_image)\n",
        "\n",
        "#     if cv2.waitKey(1) & 0xFF == ord('q'):\n",
        "#         break\n",
        "\n",
        "#   # Break the loop\n",
        "#   else:\n",
        "#     break  \n",
        "\n",
        "# hands.close()\n",
        "# cap.release()\n",
        "# out.release()\n",
        "\n",
        "# # Closes all the frames\n",
        "# cv2.destroyAllWindows()"
      ],
      "execution_count": null,
      "outputs": []
    },
    {
      "cell_type": "code",
      "metadata": {
        "id": "kBKfprEhHBqq"
      },
      "source": [
        ""
      ],
      "execution_count": null,
      "outputs": []
    }
  ]
}