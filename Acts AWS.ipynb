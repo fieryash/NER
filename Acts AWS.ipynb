{
 "cells": [
  {
   "cell_type": "code",
   "execution_count": 1,
   "metadata": {},
   "outputs": [],
   "source": [
    "import os\n",
    "import json\n",
    "from tqdm import tqdm\n",
    "import pandas as pd\n",
    "import numpy as np"
   ]
  },
  {
   "cell_type": "markdown",
   "metadata": {},
   "source": [
    "#### This was done for the old data. Please update the fields according to the new one based on the documentation"
   ]
  },
  {
   "cell_type": "code",
   "execution_count": 1,
   "metadata": {},
   "outputs": [],
   "source": [
    "''' Recursive function to make sure all the fields are cleaned up.\n",
    "    Make sure the values of keys are of similar types when using Elasticsearch\n",
    "    Bulk Import.'''\n",
    "def iterate_val(dictionary):\n",
    "    if isinstance (dictionary,dict):\n",
    "        for item in dictionary:\n",
    "#             print(item)\n",
    "            if item == 'tables':\n",
    "                dictionary[item] = str(dictionary[item])\n",
    "            if item == 'paras' and dictionary[item] == '0':\n",
    "#                 print(dictionary[item])\n",
    "                dictionary[item] = [{\"Null Value Here\":'0'}]\n",
    "#                 print(dictionary[item])\n",
    "            if item == '' or item == [] or item == {}:\n",
    "                dictionary[\"Null Value Found\"] = dictionary[item]\n",
    "                del dictionary[item]\n",
    "                continue\n",
    "            if dictionary[item] == {Ellipsis}:\n",
    "                dictionary[item] = {\"Null Value Here\" : \"0\"}\n",
    "            if isinstance(dictionary[item],dict):\n",
    "                iterate_val(dictionary[item])\n",
    "            if isinstance(dictionary[item],list):\n",
    "                for idx in dictionary[item]:\n",
    "                    if isinstance(idx,dict):\n",
    "                        iterate_val(idx)\n",
    "    else:\n",
    "        print(\"Check\")\n",
    "        print(dictionary)\n",
    "    return dictionary"
   ]
  },
  {
   "cell_type": "code",
   "execution_count": 3,
   "metadata": {},
   "outputs": [
    {
     "name": "stderr",
     "output_type": "stream",
     "text": [
      "100%|█████████████████████████████████████████████████████████████████████████████| 2450/2450 [00:02<00:00, 895.45it/s]\n"
     ]
    }
   ],
   "source": [
    "'''Path to the documents. (This was done for the old data)'''\n",
    "path_to_parent = ''\n",
    "dictionary = []\n",
    "idx = 0\n",
    "new_lst = []\n",
    "for act in tqdm(os.listdir(os.path.join(path_to_parent))):\n",
    "    if act.endswith('.json'):\n",
    "        idx += 1\n",
    "        x = ''\n",
    "        x = str(os.path.join(path_to_parent, act))\n",
    "        with open(x, 'r') as j:\n",
    "            contents = json.loads(j.read())\n",
    "            new_cont = iterate_val(contents[0])\n",
    "                # for key_two in contents['Chapter']\n",
    "            dictionary.append(new_cont)"
   ]
  },
  {
   "cell_type": "code",
   "execution_count": 50,
   "metadata": {
    "scrolled": true
   },
   "outputs": [
    {
     "name": "stdout",
     "output_type": "stream",
     "text": [
      "1351\n"
     ]
    },
    {
     "data": {
      "text/plain": [
       "2702"
      ]
     },
     "execution_count": 50,
     "metadata": {},
     "output_type": "execute_result"
    }
   ],
   "source": [
    "new_lst = []\n",
    "print(len(dictionary))\n",
    "for i in range(0,len(dictionary)):\n",
    "    index = {\"index\":{\"_index\":\"acts\",\"_id\":str(i)}}\n",
    "    new_lst.append(index)\n",
    "    new_lst.append(dictionary[i])\n",
    "len(new_lst)"
   ]
  },
  {
   "cell_type": "code",
   "execution_count": 65,
   "metadata": {},
   "outputs": [],
   "source": [
    "lst = [new_lst[i:i+50] for i in range(0, len(new_lst), 50)]"
   ]
  },
  {
   "cell_type": "code",
   "execution_count": 67,
   "metadata": {},
   "outputs": [],
   "source": [
    "#This is to index the Acts at one go\n",
    "import requests\n",
    "for item in lst:\n",
    "    with open('output.json', 'w') as f:\n",
    "        for d in item:\n",
    "            string = json.dumps(d)\n",
    "            f.write(string+'\\n')\n",
    "    headers = {\n",
    "    'Content-Type': 'application/json',}\n",
    "    data = open('output.json', 'rb').read()\n",
    "    response = requests.post('https://search-lawnics-h6i3e4ys7i26faaqoqsmqoew3m.us-east-2.es.amazonaws.com//_bulk', \n",
    "                             headers=headers, data=data, auth=('administrator', 'L@wnics2020'))"
   ]
  },
  {
   "cell_type": "code",
   "execution_count": 5,
   "metadata": {},
   "outputs": [],
   "source": [
    "#This is to index acts with each section as a separate document\n",
    "import requests\n",
    "headers = {\n",
    "'Content-Type': 'application/json',}\n",
    "data = open('output_separate.json', 'rb').read()\n",
    "response = requests.post('https://search-lawnics-h6i3e4ys7i26faaqoqsmqoew3m.us-east-2.es.amazonaws.com//_bulk', \n",
    "                         headers=headers, data=data, auth=('administrator', 'L@wnics2020'))"
   ]
  },
  {
   "cell_type": "code",
   "execution_count": null,
   "metadata": {},
   "outputs": [],
   "source": []
  }
 ],
 "metadata": {
  "kernelspec": {
   "display_name": "Python 3",
   "language": "python",
   "name": "python3"
  },
  "language_info": {
   "codemirror_mode": {
    "name": "ipython",
    "version": 3
   },
   "file_extension": ".py",
   "mimetype": "text/x-python",
   "name": "python",
   "nbconvert_exporter": "python",
   "pygments_lexer": "ipython3",
   "version": "3.6.12"
  }
 },
 "nbformat": 4,
 "nbformat_minor": 4
}
