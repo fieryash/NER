{
 "cells": [
  {
   "cell_type": "code",
   "execution_count": null,
   "metadata": {},
   "outputs": [],
   "source": [
    "from elasticsearch import Elasticsearch\n",
    "import os\n",
    "import json\n",
    "from tqdm import tqdm\n",
    "import pandas as pd\n",
    "import numpy as np"
   ]
  },
  {
   "cell_type": "code",
   "execution_count": null,
   "metadata": {},
   "outputs": [],
   "source": [
    "import re\n",
    "def iterate_val(dictionary):\n",
    "    for item in dictionary:\n",
    "        if item == '' or item == [] or item == {}:\n",
    "            if dictionary[item] == [] or dictionary[item] == '' or dictionary[item] == {}:\n",
    "                dictionary[item] = [\"0\"]\n",
    "            dictionary[\"Null Value Found\"] = dictionary[item]\n",
    "            del dictionary[item]\n",
    "            continue\n",
    "        if dictionary[item] == {Ellipsis}:\n",
    "            dictionary[item] = {\"Null Value Here\" : \"0\"}\n",
    "        if isinstance(dictionary[item],dict):\n",
    "            iterate_val(dictionary[item])\n",
    "        if isinstance(dictionary[item],list):\n",
    "            for idx in dictionary[item]:\n",
    "                if isinstance(idx,dict):\n",
    "                    iterate_val(idx)\n",
    "    return dictionary\n",
    "# contents_clean = iterate_val(contents)"
   ]
  },
  {
   "cell_type": "code",
   "execution_count": null,
   "metadata": {},
   "outputs": [],
   "source": [
    "'''To index all cases into a dictionary'''\n",
    "path_to_parent = \"\"\n",
    "count = 0\n",
    "cite_dict = []\n",
    "for court in tqdm(os.listdir(path_to_parent)):\n",
    "    if court.endswith('.json') or court.endswith('.pdf') or court.endswith('.txt') or court.endswith('.jpg'):\n",
    "            continue\n",
    "    for year in tqdm(os.listdir(os.path.join(path_to_parent))): \n",
    "        if year.endswith('.json') or year.endswith('.pdf') or year.endswith('.txt') or year.endswith('.jpg'):\n",
    "            continue\n",
    "        for month in os.listdir(os.path.join(path_to_parent, year)):\n",
    "            if month.endswith('.json') or month.endswith('.pdf') or month.endswith('.txt') or month.endswith('.jpg'):\n",
    "                continue\n",
    "            for files in os.listdir(os.path.join(path_to_parent, year, month)):\n",
    "                if files.endswith('.json'):\n",
    "                    x = str(os.path.join(path_to_parent, year,month,files))\n",
    "                    with open(x, 'r') as j:\n",
    "                        contents = json.loads(j.read())\n",
    "    #                     print(len(contents))\n",
    "                        contents['cites'] = str(contents['cites'])\n",
    "                        contents['citedBy'] = str(contents['citedBy'])\n",
    "                        for i in range(0,len(contents['paragraphs'])):\n",
    "                            contents['paragraphs'][i]['mainPara'] = str(contents['paragraphs'][i]['mainPara'])\n",
    "                            contents['paragraphs'][i]['subPara'] = str(contents['paragraphs'][i]['subPara'])\n",
    "                        contents_clean = iterate_val(contents)\n",
    "    #                     print(len(contents_clean))\n",
    "                        cite_dict.append(contents_clean)"
   ]
  },
  {
   "cell_type": "code",
   "execution_count": null,
   "metadata": {},
   "outputs": [],
   "source": [
    "new_lst = []\n",
    "for i in tqdm(range(0,len(cite_dict))):\n",
    "    index = {\"index\":{\"_index\":\"cases\",\"_id\":str(i)}}\n",
    "    new_lst.append(index)\n",
    "    new_lst.append(cite_dict[i])\n",
    "len(new_lst)\n",
    "new_low_lst = new_lst[0:1500]"
   ]
  },
  {
   "cell_type": "code",
   "execution_count": null,
   "metadata": {},
   "outputs": [],
   "source": [
    "with open('output_cases.json', 'w') as f:\n",
    "    for d in new_lst:\n",
    "        string = json.dumps(d)\n",
    "        f.write(string+'\\n')"
   ]
  },
  {
   "cell_type": "code",
   "execution_count": null,
   "metadata": {},
   "outputs": [],
   "source": [
    "lst = [new_low_lst[i:i+50] for i in range(0, len(new_low_lst), 50)]"
   ]
  },
  {
   "cell_type": "code",
   "execution_count": null,
   "metadata": {},
   "outputs": [],
   "source": [
    "import requests\n",
    "for item in lst:\n",
    "    with open('output_cases.json', 'w') as f:\n",
    "        for d in item:\n",
    "            string = json.dumps(d)\n",
    "            f.write(string+'\\n')\n",
    "    headers = {\n",
    "    'Content-Type': 'application/json',}\n",
    "    data = open('output_cases.json', 'rb').read()\n",
    "    response = requests.post('https://search-lawnics-h6i3e4ys7i26faaqoqsmqoew3m.us-east-2.es.amazonaws.com//_bulk', \n",
    "                             headers=headers, data=data, auth=('administrator', 'L@wnics2020'))\n",
    "    print(\"done\")"
   ]
  },
  {
   "cell_type": "code",
   "execution_count": null,
   "metadata": {},
   "outputs": [],
   "source": []
  }
 ],
 "metadata": {
  "kernelspec": {
   "display_name": "Python 3",
   "language": "python",
   "name": "python3"
  },
  "language_info": {
   "codemirror_mode": {
    "name": "ipython",
    "version": 3
   },
   "file_extension": ".py",
   "mimetype": "text/x-python",
   "name": "python",
   "nbconvert_exporter": "python",
   "pygments_lexer": "ipython3",
   "version": "3.6.12"
  }
 },
 "nbformat": 4,
 "nbformat_minor": 4
}
